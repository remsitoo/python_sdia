{
 "cells": [
  {
   "cell_type": "markdown",
   "metadata": {},
   "source": [
    "# Practical session 2 - Practise with classic libraries\n",
    "\n",
    "Students (pair):\n",
    "- [Rémi Offner](https://github.com/remsitoo)\n",
    "- [Téis Matencio](https://github.com/Teis-03)"
   ]
  },
  {
   "cell_type": "markdown",
   "metadata": {},
   "source": [
    "**Useful references for this lab**:\n",
    "\n",
    "[1] `numpy`: [lecture notes (1.4.1-1.4.2)](https://scipy-lectures.org/intro/numpy/index.html) and [documentation](https://numpy.org/doc/stable/)\n",
    "\n",
    "[2] `pandas`: [documentation](https://pandas.pydata.org/docs/getting_started/index.html), [quick tutorial](https://pandas.pydata.org/pandas-docs/version/0.15/10min.html)\n",
    "\n",
    "[3] `matplotlib`: [lecture notes (1.5)](https://scipy-lectures.org/intro/matplotlib/index.html) and [documentation](https://matplotlib.org/)\n",
    "\n",
    "[4] `h5py`: [quick start guide](http://docs.h5py.org/en/stable/quick.html#quick)"
   ]
  },
  {
   "cell_type": "markdown",
   "metadata": {},
   "source": [
    "## <a name=\"content\">Contents</a>\n",
    "- [Exercise 1: Computing basic statistics](#ex1)\n",
    "- [Exercise 2: Random variables and histograms](#ex2)\n",
    "- [Exercise 3: Discrete isotropic total variation](#ex3)\n",
    "---"
   ]
  },
  {
   "cell_type": "code",
   "execution_count": 1,
   "metadata": {},
   "outputs": [],
   "source": [
    "%load_ext autoreload\n",
    "%autoreload 2"
   ]
  },
  {
   "cell_type": "markdown",
   "metadata": {},
   "source": [
    "---\n",
    "## <a name=\"ex1\">Exercise 1: Random variables and histograms</a>\n",
    "\n",
    "In this exercise, we are interested in generating samples from the Gamma distribution $\\mathcal{G}(\\alpha,\\beta)$, of probability density function (pdf)\n",
    "\n",
    "\\begin{equation}\n",
    "    p(x) = \\frac{\\beta^\\alpha}{\\Gamma(\\alpha)} x^{\\alpha-1} \\exp(-\\beta x) \\mathbb{1}_{\\mathbb{R}_+^*}(x),\n",
    "\\end{equation}\n",
    "\n",
    "and displaying their histogram. In the following, we consider $(\\alpha, \\beta) = (9, 2)$.\n",
    "\n",
    "1\\. Set the random seed to a fixed value for reproducibility, and biefly check your instruction works as intended.\n",
    "> Hint: you may take a look at the following pages: [random module](https://numpy.org/doc/stable/reference/random/index.html?highlight=random#module-numpy.random), [random generator](https://numpy.org/doc/stable/reference/random/generator.html)."
   ]
  },
  {
   "cell_type": "markdown",
   "metadata": {},
   "source": [
    "**Answer**:"
   ]
  },
  {
   "cell_type": "code",
   "execution_count": 35,
   "metadata": {},
   "outputs": [
    {
     "name": "stdout",
     "output_type": "stream",
     "text": [
      "[5.1063685  4.13298334 3.99772611 3.99774901 7.09829819 5.56396919\n",
      " 3.67836921 5.18202666 4.69933889 2.08311085]\n",
      "Values are the same at each run\n"
     ]
    }
   ],
   "source": [
    "alpha, beta = 9, 2\n",
    "\n",
    "# we set the random seed\n",
    "import numpy as np\n",
    "np.random.seed(42)\n",
    "\n",
    "#1\n",
    "print(np.random.gamma(shape = alpha, scale = 1/beta, size = 10))\n",
    "\n",
    "\n",
    "print('Values are the same at each run')"
   ]
  },
  {
   "cell_type": "markdown",
   "metadata": {},
   "source": [
    "  2\\. Generate $\\approx 10^5$ samples in a vector. Save the vector in a file, `samples.hdf5` or `samples.npy`.\n",
    "> Warning / hint: \n",
    "> - take a careful look at the [documentation](https://numpy.org/doc/stable/reference/random/generated/numpy.random.gamma.html?highlight=gamma#numpy.random.gamma) (multiple conventions exist for the definition of the pdf underlying the distribution...);\n",
    "> - to save data in a `npy` file, take a look at the example reported in the [Numpy documentation](https://numpy.org/doc/stable/reference/generated/numpy.save.html);\n",
    "> - to save data in a `.h5` file, take a quick look at the [documentation here](https://docs.h5py.org/en/stable/quick.html#quick)."
   ]
  },
  {
   "cell_type": "markdown",
   "metadata": {},
   "source": [
    "**Answer**:"
   ]
  },
  {
   "cell_type": "code",
   "execution_count": 40,
   "metadata": {},
   "outputs": [
    {
     "name": "stdout",
     "output_type": "stream",
     "text": [
      "A few samples : [5.09795257 4.65604934 2.24195572 3.19354224 4.0016017 ]\n"
     ]
    }
   ],
   "source": [
    "# Generation of the samples\n",
    "\n",
    "samples = np.random.gamma(shape = alpha, scale = 1/beta, size = 10000)\n",
    "\n",
    "# Saving the sample in .npy file\n",
    "np.save('output/samples.npy', samples)\n",
    "\n",
    "# To check the saving\n",
    "examples = np.load('output/samples.npy')\n",
    "print('A few samples :', examples[:5])"
   ]
  },
  {
   "cell_type": "markdown",
   "metadata": {},
   "source": [
    "3\\. Estimate an histogram of this distribution for a well chosen set of bins, and display it.\n",
    "> Warnings: \n",
    "> - make sure the [histogram](https://matplotlib.org/api/_as_gen/matplotlib.pyplot.hist.html?highlight=hist#matplotlib.pyplot.hist) corresponds to a probability density function (pdf);\n",
    "> - do not forget to include a proper title with names for the axes."
   ]
  },
  {
   "cell_type": "markdown",
   "metadata": {},
   "source": [
    "**Answer**:"
   ]
  },
  {
   "cell_type": "code",
   "execution_count": 41,
   "metadata": {},
   "outputs": [
    {
     "data": {
      "text/plain": [
       "<function matplotlib.pyplot.show(close=None, block=None)>"
      ]
     },
     "execution_count": 41,
     "metadata": {},
     "output_type": "execute_result"
    },
    {
     "data": {
      "image/png": "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",
      "text/plain": [
       "<Figure size 640x480 with 1 Axes>"
      ]
     },
     "metadata": {},
     "output_type": "display_data"
    }
   ],
   "source": [
    "import matplotlib.pyplot as plt\n",
    "from scipy.stats import gamma\n",
    "\n",
    "data = np.load('output/samples.npy')\n",
    "\n",
    "plt.hist(samples, bins=50, density=True, alpha=0.6, color=\"skyblue\", edgecolor=\"black\")\n",
    "\n",
    "\n",
    "plt.title('Gamma distribution histogram')\n",
    "plt.xlabel('x')\n",
    "plt.ylabel('Gamma density function')\n",
    "plt.legend\n",
    "plt.show"
   ]
  },
  {
   "cell_type": "markdown",
   "metadata": {},
   "source": [
    "4\\. Overlay the probability density function on the histogram and compare these in a few words. Save the resulting picture in `.png` format.\n",
    "> Hint: \n",
    "> - take a look at the `scipy` [documentation](https://docs.scipy.org/doc/scipy/reference/stats.html) to avoid implementing the pdf from scratch;\n",
    "> - return the bins in which the histogram is computed, and evaluate the pdf on those points."
   ]
  },
  {
   "cell_type": "markdown",
   "metadata": {},
   "source": [
    "**Answer**:"
   ]
  },
  {
   "cell_type": "code",
   "execution_count": 42,
   "metadata": {},
   "outputs": [
    {
     "data": {
      "text/plain": [
       "<function matplotlib.pyplot.show(close=None, block=None)>"
      ]
     },
     "execution_count": 42,
     "metadata": {},
     "output_type": "execute_result"
    },
    {
     "data": {
      "image/png": "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",
      "text/plain": [
       "<Figure size 640x480 with 1 Axes>"
      ]
     },
     "metadata": {},
     "output_type": "display_data"
    }
   ],
   "source": [
    "import matplotlib.pyplot as plt\n",
    "from scipy.stats import gamma\n",
    "\n",
    "data = np.load('output/samples.npy')\n",
    "\n",
    "plt.hist(samples, bins=50, density=True, alpha=0.6, color=\"skyblue\", edgecolor=\"black\")\n",
    "\n",
    "# We also print the theorical gamma function in order to compare\n",
    "# We get the bins\n",
    "counts, bins, _ = plt.hist(samples, bins=50, density=True, alpha=0.6, color=\"skyblue\", edgecolor=\"black\")\n",
    "\n",
    "# We want to evaluate the pdf on the center of each bin\n",
    "# Estimation of each bin center\n",
    "bin_centers = 0.5 * (bins[1:] + bins[:-1])\n",
    "\n",
    "\n",
    "pdf = gamma.pdf(bin_centers, a=alpha, scale=1/beta)\n",
    "plt.plot(bin_centers, pdf, \"r-\", lw=2, label=\"Theorical $\\Gamma(9,2)$\")\n",
    "\n",
    "plt.title('Gamme distribution histogram')\n",
    "plt.xlabel('x')\n",
    "plt.ylabel('Gamma density function')\n",
    "plt.legend\n",
    "\n",
    "# Saving the result\n",
    "plt.savefig(\"output/gamma_hist.png\", dpi=300)\n",
    "plt.show\n"
   ]
  },
  {
   "cell_type": "markdown",
   "metadata": {},
   "source": [
    "---\n",
    "## <a name=\"ex2\">Exercise 2: Basic statistics with `pandas`</a>\n",
    "\n",
    "In this second exercise, we focus on computing basic statistics, and applying linear regression to a small data set. These data are gathered in the following table, which gives the infant mortality (`X`) and the gross national product per inhabitant (`Y`) of 12 european countries :\n",
    "\n",
    "| `X` | 190 | 128 | 180 | 212 | 56 | 192 | 68 | 98 | 110 | 197 | 181 | 233 |\n",
    "|-----|-----|-----|-----|----|-----|----|----|-----|-----|-----|-----|-----|\n",
    "| `Y` |  24 |  28 |  24 | 19 |  37 | 22 | 34 |  25 |  36 |  24 |  20 |  18 |\n",
    "\n",
    "1\\. For `X `and `Y`, compute the median, mean, variance and standard deviation. The data points have already been entered into a `.csv` file stored in `data/data.csv`.\n",
    "> Hint: \n",
    "> - you can directly use `pandas` to load the data into a `DataFrame` ([`pd.read_csv`](https://pandas.pydata.org/docs/reference/frame.html));\n",
    "> - take a look at the built-in operations available for `DataFrame` objects ([documentation](https://pandas.pydata.org/docs/reference/frame.html));\n",
    "> - to display a `DataFrame` `f`:\n",
    "> ```python \n",
    "> from IPython.display import display\n",
    "> display(df)\n",
    "> ```\n",
    "> - sort the `DataFrame` with respect to the value of `X` (see [here](https://pandas.pydata.org/docs/reference/api/pandas.DataFrame.sort_values.html#pandas.DataFrame.sort_values)) This will be useful for question 3."
   ]
  },
  {
   "cell_type": "markdown",
   "metadata": {},
   "source": [
    "**Answer**:"
   ]
  },
  {
   "cell_type": "code",
   "execution_count": 45,
   "metadata": {},
   "outputs": [
    {
     "data": {
      "text/html": [
       "<div>\n",
       "<style scoped>\n",
       "    .dataframe tbody tr th:only-of-type {\n",
       "        vertical-align: middle;\n",
       "    }\n",
       "\n",
       "    .dataframe tbody tr th {\n",
       "        vertical-align: top;\n",
       "    }\n",
       "\n",
       "    .dataframe thead th {\n",
       "        text-align: right;\n",
       "    }\n",
       "</style>\n",
       "<table border=\"1\" class=\"dataframe\">\n",
       "  <thead>\n",
       "    <tr style=\"text-align: right;\">\n",
       "      <th></th>\n",
       "      <th>X</th>\n",
       "      <th>Y</th>\n",
       "    </tr>\n",
       "  </thead>\n",
       "  <tbody>\n",
       "    <tr>\n",
       "      <th>4</th>\n",
       "      <td>56</td>\n",
       "      <td>37</td>\n",
       "    </tr>\n",
       "    <tr>\n",
       "      <th>6</th>\n",
       "      <td>68</td>\n",
       "      <td>34</td>\n",
       "    </tr>\n",
       "    <tr>\n",
       "      <th>7</th>\n",
       "      <td>98</td>\n",
       "      <td>25</td>\n",
       "    </tr>\n",
       "    <tr>\n",
       "      <th>8</th>\n",
       "      <td>110</td>\n",
       "      <td>36</td>\n",
       "    </tr>\n",
       "    <tr>\n",
       "      <th>1</th>\n",
       "      <td>128</td>\n",
       "      <td>28</td>\n",
       "    </tr>\n",
       "    <tr>\n",
       "      <th>2</th>\n",
       "      <td>180</td>\n",
       "      <td>24</td>\n",
       "    </tr>\n",
       "    <tr>\n",
       "      <th>10</th>\n",
       "      <td>181</td>\n",
       "      <td>20</td>\n",
       "    </tr>\n",
       "    <tr>\n",
       "      <th>0</th>\n",
       "      <td>190</td>\n",
       "      <td>24</td>\n",
       "    </tr>\n",
       "    <tr>\n",
       "      <th>5</th>\n",
       "      <td>192</td>\n",
       "      <td>22</td>\n",
       "    </tr>\n",
       "    <tr>\n",
       "      <th>9</th>\n",
       "      <td>197</td>\n",
       "      <td>24</td>\n",
       "    </tr>\n",
       "    <tr>\n",
       "      <th>3</th>\n",
       "      <td>212</td>\n",
       "      <td>19</td>\n",
       "    </tr>\n",
       "    <tr>\n",
       "      <th>11</th>\n",
       "      <td>233</td>\n",
       "      <td>18</td>\n",
       "    </tr>\n",
       "  </tbody>\n",
       "</table>\n",
       "</div>"
      ],
      "text/plain": [
       "      X   Y\n",
       "4    56  37\n",
       "6    68  34\n",
       "7    98  25\n",
       "8   110  36\n",
       "1   128  28\n",
       "2   180  24\n",
       "10  181  20\n",
       "0   190  24\n",
       "5   192  22\n",
       "9   197  24\n",
       "3   212  19\n",
       "11  233  18"
      ]
     },
     "metadata": {},
     "output_type": "display_data"
    },
    {
     "data": {
      "text/html": [
       "<div>\n",
       "<style scoped>\n",
       "    .dataframe tbody tr th:only-of-type {\n",
       "        vertical-align: middle;\n",
       "    }\n",
       "\n",
       "    .dataframe tbody tr th {\n",
       "        vertical-align: top;\n",
       "    }\n",
       "\n",
       "    .dataframe thead th {\n",
       "        text-align: right;\n",
       "    }\n",
       "</style>\n",
       "<table border=\"1\" class=\"dataframe\">\n",
       "  <thead>\n",
       "    <tr style=\"text-align: right;\">\n",
       "      <th></th>\n",
       "      <th>mean</th>\n",
       "      <th>median</th>\n",
       "      <th>variance</th>\n",
       "      <th>std_dev</th>\n",
       "    </tr>\n",
       "  </thead>\n",
       "  <tbody>\n",
       "    <tr>\n",
       "      <th>X</th>\n",
       "      <td>153.750000</td>\n",
       "      <td>180.5</td>\n",
       "      <td>3486.022727</td>\n",
       "      <td>59.042550</td>\n",
       "    </tr>\n",
       "    <tr>\n",
       "      <th>Y</th>\n",
       "      <td>25.916667</td>\n",
       "      <td>24.0</td>\n",
       "      <td>42.446970</td>\n",
       "      <td>6.515134</td>\n",
       "    </tr>\n",
       "  </tbody>\n",
       "</table>\n",
       "</div>"
      ],
      "text/plain": [
       "         mean  median     variance    std_dev\n",
       "X  153.750000   180.5  3486.022727  59.042550\n",
       "Y   25.916667    24.0    42.446970   6.515134"
      ]
     },
     "metadata": {},
     "output_type": "display_data"
    }
   ],
   "source": [
    "import pandas as pd\n",
    "from IPython.display import display\n",
    "\n",
    "df =pd.read_csv('data/data.csv').sort_values(by='X')\n",
    "\n",
    "# Display the Dataframe\n",
    "display(df)\n",
    "\n",
    "# Computing the stats\n",
    "stats = pd.DataFrame({\n",
    "    \"mean\": df.mean(),\n",
    "    \"median\": df.median(),\n",
    "    \"variance\": df.var(),\n",
    "    \"std_dev\": df.std()\n",
    "})\n",
    "\n",
    "display(stats)"
   ]
  },
  {
   "cell_type": "markdown",
   "metadata": {},
   "source": [
    "2\\. Give the equation of the regression line of `Y` as a function of `X`.\n",
    "> Hint: \n",
    "> - take a look at the functionalities available in `numpy` (e.g., `np.polyfit` and `np.polyval`);\n",
    "> - if needed, note that you can retrieve the data from the resulting `pandas` `DataFrame` with the `to_numpy()` method."
   ]
  },
  {
   "cell_type": "markdown",
   "metadata": {},
   "source": [
    "**Answer**:"
   ]
  },
  {
   "cell_type": "code",
   "execution_count": 22,
   "metadata": {},
   "outputs": [
    {
     "name": "stdout",
     "output_type": "stream",
     "text": [
      "Linear regression : Y = -0.0982 * X + 41.0095\n"
     ]
    }
   ],
   "source": [
    "# Extraction of X and Y\n",
    "X = df['X'].to_numpy()\n",
    "Y = df['Y'].to_numpy()\n",
    "\n",
    "# Computing the linear (deg = 1) regression\n",
    "coeffs = np.polyfit(X, Y, deg=1)\n",
    "a, b = coeffs\n",
    "\n",
    "print(f\"Linear regression : Y = {a:.4f} * X + {b:.4f}\")"
   ]
  },
  {
   "cell_type": "markdown",
   "metadata": {},
   "source": [
    "3\\. Display the cloud of points and the regression line $Y = f(X)$ on the same figure. Save the figure in `.png` format."
   ]
  },
  {
   "cell_type": "markdown",
   "metadata": {},
   "source": [
    "**Answer**:"
   ]
  },
  {
   "cell_type": "code",
   "execution_count": 46,
   "metadata": {},
   "outputs": [
    {
     "data": {
      "image/png": "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",
      "text/plain": [
       "<Figure size 640x480 with 1 Axes>"
      ]
     },
     "metadata": {},
     "output_type": "display_data"
    }
   ],
   "source": [
    "# prediction of Y values\n",
    "Y_pred = np.polyval(coeffs, X)\n",
    "\n",
    "# the cloud\n",
    "plt.scatter(X, Y, color='blue', label='Observed data')\n",
    "\n",
    "# the linear regression\n",
    "plt.plot(X, Y_pred, color='red', label=f'Regression line : Y={a:.2f}X+{b:.2f}')\n",
    "\n",
    "plt.xlabel(\"Infant mortality (X)\")\n",
    "plt.ylabel(\"GNP per inhabitant (Y)\")\n",
    "plt.title(\"Linear regression - Y = f(X)\")\n",
    "plt.legend()\n",
    "plt.grid(True)\n",
    "plt.show()"
   ]
  },
  {
   "cell_type": "markdown",
   "metadata": {},
   "source": [
    "---\n",
    "## <a name=\"ex3\">Exercise 3: Discrete isotropic total variation</a>\n",
    "\n",
    "This exercise is devoted to the computation of the discrete isotropic total variation (TV) of an input matrix $\\mathbf{X} = [\\mathbf{x}_n]_{1 \\leq n \\leq N} \\in\\mathbb{C}^{M \\times N}$, which is particularly useful in Bayesian inference (e.g., for inverse problems) to promote piece-wise smooth solutions. The TV is defined as\n",
    "\n",
    "\\begin{equation*}\n",
    "    \\text{TV}(\\mathbf{X}) = \\Vert D(\\mathbf{X}) \\Vert_{1,2} = \\sum_{m=1}^M \\sum_{n=1}^N \\sqrt{[\\mathbf{XD}_h]^2_{m,n} + [\\mathbf{D}_v\\mathbf{X}]^2_{m,n}},\n",
    "\\end{equation*}\n",
    "\n",
    "where $[\\mathbf{Z}]_{m,n}$ denotes the elements in position $(m,n)$ of the matrix $\\mathbf{Z}$,\n",
    "\n",
    "\\begin{align*}\n",
    "    D(X) &= (\\mathbf{XD}_h, \\mathbf{D}_v\\mathbf{X}) \\in \\mathbb{C}^{M\\times N} \\times \\mathbb{C}^{M\\times N} \\\\\n",
    "    %\n",
    "    \\mathbf{XD}_h &= [\\mathbf{x}_2-\\mathbf{x}_1, \\dotsc, \\mathbf{x}_N-\\mathbf{x}_{N-1}, \\mathbf{0}_M] \\in \\mathbb{C}^{M\\times N} \\\\\n",
    "    %\n",
    "    \\mathbf{D}_v\\mathbf{X} &= [\\tilde{\\mathbf{x}}_2^T-\\tilde{\\mathbf{x}}^T_1, \\dotsc, \\tilde{\\mathbf{x}}^T_M-\\tilde{\\mathbf{x}}^T_{M-1}, \\mathbf{0}_N]^T \\in \\mathbb{C}^{M\\times N},\n",
    "\\end{align*}\n",
    "\n",
    "$\\mathbf{x}_n \\in \\mathbb{C}^{M}$ is the $n$-th column of $\\mathbf{X}$, and $\\tilde{\\mathbf{x}}_m \\in \\mathbb{C}^{1\\times N}$ is the $m$-th row of $\\mathbf{X}$. \n",
    "The linear operator $D: \\mathbb{C}^{M\\times N} \\rightarrow \\mathbb{C}^{M\\times N} \\times \\mathbb{C}^{M\\times N} $ is the discrete gradient operator. The adjoint of $D$, $D^*: \\mathbb{C}^{M\\times N} \\times \\mathbb{C}^{M\\times N} \\rightarrow \\mathbb{C}^{M\\times N}$, is given by\n",
    "\n",
    "\\begin{align*}\n",
    "    (\\forall \\mathbf{Y} = (\\mathbf{Y}_h,\\mathbf{Y}_v)), \\quad D^*(\\mathbf{Y}) &= \\mathbf{Y}_h\\mathbf{D}^*_h + \\mathbf{D}^*_v\\mathbf{Y}_v \\\\\n",
    "    %\n",
    "    \\mathbf{Y}_h\\mathbf{D}^*_h &= \\big[-\\mathbf{y}_{h,1},- [\\mathbf{y}_{h,n}-\\mathbf{y}_{h,n-1}]_{2 \\leq n \\leq N-1}, \\mathbf{y}_{h, N-1} \\big] \\\\\n",
    "    %\n",
    "    \\mathbf{D}^*_v\\mathbf{Y}_v &= \\big[-\\tilde{\\mathbf{y}}_{v,1}^T,- [\\tilde{\\mathbf{y}}_{v,m}^T-\\tilde{\\mathbf{y}}^T_{v,m-1}]_{2 \\leq m \\leq M-1}, \\tilde{\\mathbf{y}}^T_{v, M-1} \\big]^T\n",
    "\\end{align*}\n",
    "\n",
    "where $\\mathbf{y}_{h,n}$ is the $n$-th column of $\\mathbf{Y}_h$, and $\\tilde{\\mathbf{x}}_{v,m}$ is the $m$-th row of $\\mathbf{Y}_v$.\n",
    "\n",
    "1\\. Using `numpy`, implement a function `gradient2D` to compute the 2D discrete gradient operator $D$ applied to a matrix $\\mathbf{X}\\in\\mathbb{C}^{M \\times N}$ (no for loops!). Trigger an error message whenever the input array has more than 2 dimensions. If not clear from the implementation, add a few short comments to explain your code.\n",
    "\n",
    "> Hint: \n",
    "> - to trigger an error, you can for instance use an `assert` statement, or raise an [exception (e.g., `AssertionError`)](https://docs.python.org/3/library/exceptions.html);\n",
    "> - only a few operations are needed: computing vertical differences, horizontal differences, and possibly a concatenation of matrices into a single tensor (= n-dimensional array);\n",
    "> - possibly useful functions: `np.diff`, `np.c_`, `np.r_` (or `np.concatenate`). "
   ]
  },
  {
   "cell_type": "markdown",
   "metadata": {},
   "source": [
    "**Answer**:"
   ]
  },
  {
   "cell_type": "code",
   "execution_count": 11,
   "metadata": {},
   "outputs": [],
   "source": [
    "# your code\n",
    "\n",
    "import numpy as np\n",
    "\n",
    "def gradient2D(X: np.ndarray) -> tuple[np.ndarray, np.ndarray]:\n",
    "\n",
    "    # Dimension check\n",
    "    if X.ndim != 2:\n",
    "        raise ValueError(\"Input must be a 2D matrix\")\n",
    "\n",
    "    M, N = X.shape\n",
    "\n",
    "    # Horizontal differences (diff along axis=1 = columns)\n",
    "    XDh = np.concatenate((np.diff(X, axis=1), np.zeros((M, 1), dtype=X.dtype)), axis=1)\n",
    "\n",
    "    # Vertical differences (diff along axis=0 = rows)\n",
    "    DvX = np.concatenate((np.diff(X, axis=0), np.zeros((1, N), dtype=X.dtype)), axis=0)\n",
    "\n",
    "    return XDh, DvX"
   ]
  },
  {
   "cell_type": "markdown",
   "metadata": {},
   "source": [
    "2\\. Implement a unit-test to validate the behaviour of the `gradient2D` function. For instance, you can check the format of the output, and test the result when the function is evaluated on a constant matrix (for both a square and a non-square input matrix). Run the unit-test from the present Jupyter notebook."
   ]
  },
  {
   "cell_type": "markdown",
   "metadata": {},
   "source": [
    "**Answer**:"
   ]
  },
  {
   "cell_type": "code",
   "execution_count": 7,
   "metadata": {},
   "outputs": [],
   "source": [
    "# your code\n",
    "\n",
    "import ipytest\n",
    "ipytest.autoconfig()\n"
   ]
  },
  {
   "cell_type": "code",
   "execution_count": 8,
   "metadata": {},
   "outputs": [
    {
     "name": "stdout",
     "output_type": "stream",
     "text": [
      "\u001b[32m.\u001b[0m\u001b[32m.\u001b[0m\u001b[32m.\u001b[0m\u001b[32m.\u001b[0m\u001b[32m                                                                                         [100%]\u001b[0m\n"
     ]
    }
   ],
   "source": [
    "%%ipytest -q\n",
    "import pytest\n",
    "\n",
    "def test_gradient2D_output_shape():\n",
    "    \"\"\"Check that the function returns two arrays of the same shape as input.\"\"\"\n",
    "    X = np.random.randn(4, 5)\n",
    "    XDh, DvX = gradient2D(X)\n",
    "\n",
    "    assert XDh.shape == X.shape\n",
    "    assert DvX.shape == X.shape\n",
    "\n",
    "\n",
    "def test_gradient2D_constant_matrix_square():\n",
    "    \"\"\"Gradient of a constant square matrix should be zero everywhere.\"\"\"\n",
    "    X = np.ones((3, 3))\n",
    "    XDh, DvX = gradient2D(X)\n",
    "\n",
    "    assert np.allclose(XDh, 0)\n",
    "    assert np.allclose(DvX, 0)\n",
    "\n",
    "\n",
    "def test_gradient2D_constant_matrix_rectangular():\n",
    "    \"\"\"Gradient of a constant non-square matrix should also be zero everywhere.\"\"\"\n",
    "    X = np.full((2, 4), 7.5)  # constant 2x4\n",
    "    XDh, DvX = gradient2D(X)\n",
    "\n",
    "    assert np.allclose(XDh, 0)\n",
    "    assert np.allclose(DvX, 0)\n",
    "\n",
    "\n",
    "def test_gradient2D_invalid_dimension():\n",
    "    \"\"\"Input must be 2D — higher dimensional input should raise ValueError.\"\"\"\n",
    "    X = np.ones((2, 2, 2))\n",
    "    with pytest.raises(ValueError):\n",
    "        gradient2D(X)"
   ]
  },
  {
   "cell_type": "markdown",
   "metadata": {},
   "source": [
    "3\\. Document the function `gradient2D` with an appropriate docstring (see Lab 1)."
   ]
  },
  {
   "cell_type": "markdown",
   "metadata": {},
   "source": [
    "**Answer**:"
   ]
  },
  {
   "cell_type": "code",
   "execution_count": null,
   "metadata": {},
   "outputs": [],
   "source": [
    "# your code\n",
    "\n",
    "gradient2D.__doc__ = \"\"\"\n",
    "    Compute the 2D discrete gradient operator D(X).\n",
    "\n",
    "    Parameters\n",
    "    ----------\n",
    "    X : np.ndarray\n",
    "        Input 2D array (matrix).\n",
    "\n",
    "    Returns\n",
    "    -------\n",
    "    (XDh, DvX) : tuple of np.ndarray\n",
    "        - XDh: horizontal differences (M x N)\n",
    "        - DvX: vertical differences (M x N)\n",
    "\n",
    "    Raises\n",
    "    ------\n",
    "    ValueError\n",
    "        If the input matrix is not in 2 dimensions.\n",
    "    \"\"\""
   ]
  },
  {
   "cell_type": "markdown",
   "metadata": {},
   "source": [
    "4\\. Using 1., define a function `tv` to compute $\\text{TV}(\\mathbf{X})$, $\\mathbf{X}\\in\\mathbb{C}^{M \\times N}$. Write a unit-test and document your function."
   ]
  },
  {
   "cell_type": "markdown",
   "metadata": {},
   "source": [
    "**Answer**:"
   ]
  },
  {
   "cell_type": "code",
   "execution_count": null,
   "metadata": {},
   "outputs": [],
   "source": [
    "# your code\n",
    "\n",
    "def tv(X: np.ndarray) -> float:\n",
    "    \"\"\"\n",
    "    Compute the discrete isotropic Total Variation (TV) of a 2D matrix.\n",
    "\n",
    "    Parameters\n",
    "    ----------\n",
    "    X : np.ndarray\n",
    "        2D array (real or complex).\n",
    "\n",
    "    Returns\n",
    "    -------\n",
    "    float\n",
    "        The total variation of X.\n",
    "    \"\"\"\n",
    "    # Get horizontal and vertical gradients\n",
    "    XDh, DvX = gradient2D(X)\n",
    "\n",
    "    # Compute sqrt(|XDh|^2 + |DvX|^2) elementwise, then sum\n",
    "    return np.sum(np.sqrt(np.abs(XDh)**2 + np.abs(DvX)**2))"
   ]
  },
  {
   "cell_type": "code",
   "execution_count": 10,
   "metadata": {},
   "outputs": [
    {
     "name": "stdout",
     "output_type": "stream",
     "text": [
      "\u001b[32m.\u001b[0m\u001b[32m.\u001b[0m\u001b[32m.\u001b[0m\u001b[32m.\u001b[0m\u001b[32m                                                                                         [100%]\u001b[0m\n"
     ]
    }
   ],
   "source": [
    "%%ipytest -q\n",
    "\n",
    "def test_tv_constant_matrix_square():\n",
    "    \"\"\"TV of a constant square matrix should be zero.\"\"\"\n",
    "    X = np.ones((3, 3))\n",
    "    assert tv(X) == 0\n",
    "\n",
    "\n",
    "def test_tv_constant_matrix_rectangular():\n",
    "    \"\"\"TV of a constant rectangular matrix should be zero.\"\"\"\n",
    "    X = np.full((2, 4), 5)\n",
    "    assert tv(X) == 0\n",
    "\n",
    "\n",
    "def test_tv_simple_case():\n",
    "    \"\"\"Check TV for a simple 2x2 case with known differences.\"\"\"\n",
    "    # Matrix:\n",
    "    # [[0, 1],\n",
    "    #  [0, 0]]\n",
    "    X = np.array([[0, 1],\n",
    "                  [0, 0]], dtype=float)\n",
    "\n",
    "    # Horizontal differences should be: [[1, 0], [0, 0]]\n",
    "    # Vertical differences should be:   [[0, 1], [0, 0]]\n",
    "    # Elementwise sqrt( diff_h^2 + diff_v^2 ) =\n",
    "    # [[1, 1], [0, 0]]  => sum = 2\n",
    "    assert np.isclose(tv(X), 2.0)\n",
    "\n",
    "\n",
    "def test_tv_complex_case():\n",
    "    \"\"\"TV should work on complex matrices.\"\"\"\n",
    "    X = np.array([[1+1j, 2+2j],\n",
    "                  [3+3j, 4+4j]])\n",
    "    result = tv(X)\n",
    "    assert isinstance(result, (int, float, np.floating))\n",
    "    assert result >= 0"
   ]
  },
  {
   "cell_type": "markdown",
   "metadata": {},
   "source": [
    "5\\. Implement a function `gradient2D_adjoint` to compute $D^*(\\mathbf{Y})$, the adjoint of the 2D discrete gradient operator $D$ applied to $\\mathbf{Y}\\in\\mathbb{C}^{M \\times N}\\times \\mathbb{C}^{M \\times N}$. Add a few short comments to explain your code whenever appropriate."
   ]
  },
  {
   "cell_type": "markdown",
   "metadata": {},
   "source": [
    "**Answer**:"
   ]
  },
  {
   "cell_type": "code",
   "execution_count": 28,
   "metadata": {},
   "outputs": [
    {
     "data": {
      "text/plain": [
       "array([[0, 0, 0, 0],\n",
       "       [0, 0, 0, 0],\n",
       "       [0, 0, 0, 0],\n",
       "       [0, 0, 0, 0]])"
      ]
     },
     "execution_count": 28,
     "metadata": {},
     "output_type": "execute_result"
    }
   ],
   "source": [
    "Y = np.array([[1, 1, 1, 1, 1], [2, 2, 2, 2, 2], [5, 5, 5, 5, 5], [8, 8, 8, 8, 8]])\n",
    "np.diff(Y)\n",
    "#Y[1:4,:]"
   ]
  },
  {
   "cell_type": "code",
   "execution_count": 29,
   "metadata": {},
   "outputs": [],
   "source": [
    "# your code\n",
    "\n",
    "def gradient2D_adjoint(Y: tuple[np.ndarray, np.ndarray]) -> np.ndarray:\n",
    "    \"\"\"\n",
    "    Compute the adjoint of the 2D discrete gradient operator D^*(Y).\n",
    "\n",
    "    Parameters\n",
    "    ----------\n",
    "    Y : tuple of (Yh, Yv)\n",
    "        - Yh: horizontal component, shape (M, N)\n",
    "        - Yv: vertical component, shape (M, N)\n",
    "\n",
    "    Returns\n",
    "    -------\n",
    "    np.ndarray\n",
    "        Matrix of shape (M, N), the result of D^*(Y).\n",
    "\n",
    "    Raises\n",
    "    ------\n",
    "    ValueError\n",
    "        If the input tuple elements are not 2D matrices.\n",
    "    ValueError\n",
    "        If the input tuple elements don't have the same shape.\n",
    "    \"\"\"\n",
    "    Yh, Yv = Y\n",
    "\n",
    "    if Yh.ndim != 2 or Yv.ndim != 2:\n",
    "        raise ValueError(\"Both Y[0] and Y[1] must be 2D matrices of the same shape\")\n",
    "    if Yh.shape != Yv.shape:\n",
    "        raise ValueError(\"Yh and Yv must have the same shape\")\n",
    "\n",
    "    M, N = Yh.shape\n",
    "\n",
    "    # --- Horizontal adjoint YhDh* ---\n",
    "    # Leftmost column:\n",
    "    left = -Yh[:, [0]]\n",
    "    # Middle columns:\n",
    "    middle = -np.diff(Yh, axis=1)[:, :-1]\n",
    "    # Rightmost column:\n",
    "    right = Yh[:, [N-2]]\n",
    "\n",
    "    Yh_adj = np.concatenate((left, middle, right), axis=1)\n",
    "\n",
    "    # --- Vertical adjoint Dv*Yv ---\n",
    "    # Top row:\n",
    "    top = -Yv[[0], :]\n",
    "    # Middle rows:\n",
    "    middle = -np.diff(Yv, axis=0)[:-1, :]\n",
    "    # Bottom row:\n",
    "    bottom = Yv[[M-2], :]\n",
    "\n",
    "    Yv_adj = np.concatenate((top, middle, bottom), axis=0)\n",
    "\n",
    "    # Combine both contributions\n",
    "    return Yh_adj + Yv_adj"
   ]
  },
  {
   "cell_type": "markdown",
   "metadata": {},
   "source": [
    "6\\. Implement a unit-test to validate `gradient2D_adjoint`, e.g., by checking the size of the output from the function and verifying that `gradient2D_adjoint` is adjoint to `gradient2D`, i.e., for any $\\mathbf{X}\\in\\mathbb{C}^{M \\times N}$ and $\\mathbf{Y}\\in\\mathbb{C}^{M \\times N}\\times \\mathbb{C}^{M \\times N}$:\n",
    "\n",
    "\\begin{equation}\n",
    "    \\forall \\mathbf{X} \\in \\mathbb{C}^{M \\times N}, \\mathbf{Y} = (\\mathbf{Y}_h, \\mathbf{Y}_v) \\in \\mathbb{C}^{M \\times N} \\times \\mathbb{C}^{M \\times N}, \\;\n",
    "    %\n",
    "    \\langle D(\\mathbf{X}), \\mathbf{Y} \\rangle_{\\mathbb{C}^{M \\times N} \\times \\mathbb{C}^{M \\times N}} = \\langle \\mathbf{X}, D^*(\\mathbf{Y}) \\rangle_{\\mathbb{C}^{M \\times N}}, \n",
    "\\end{equation}\n",
    "\n",
    "where \n",
    "\n",
    "\\begin{align}\n",
    "    &\\forall \\mathbf{U}, \\mathbf{V} \\in \\mathbb{C}^{M \\times N}, \\; \\langle \\mathbf{U}, \\mathbf{V} \\rangle_{\\mathbb{C}^{M \\times N}} = \\text{Tr}(\\mathbf{U}^H \\mathbf{V}) = \\sum_{m=1}^M \\sum_{n=1}^N u_{m,n}^* v_{m,n}, \\\\\n",
    "    &\\forall \\mathbf{U} = (\\mathbf{U}_h, \\mathbf{U}_v), \\mathbf{V} = (\\mathbf{V}_h, \\mathbf{V}_v) \\in \\mathbb{C}^{M \\times N} \\times \\mathbb{C}^{M \\times N}, \\; \\langle \\mathbf{U}, \\mathbf{V} \\rangle_{\\mathbb{C}^{M \\times N} \\times \\mathbb{C}^{M \\times N}} = \\langle \\mathbf{U}_h, \\mathbf{V}_h \\rangle_{\\mathbb{C}^{M \\times N}} + \\langle \\mathbf{U}_v, \\mathbf{V}_v \\rangle_{\\mathbb{C}^{M \\times N}}.\n",
    "\\end{align}\n",
    "\n",
    "> Hint: to verify `gradient2D_adjoint` is the adjoint of `gradient2D`, evaluate the scalar products above for randomly drawn matrices. Set the random generator to a known state for reproducibility (see [Exercise 1](#ex1))."
   ]
  },
  {
   "cell_type": "markdown",
   "metadata": {},
   "source": [
    "**Answer**:"
   ]
  },
  {
   "cell_type": "code",
   "execution_count": 30,
   "metadata": {},
   "outputs": [],
   "source": [
    "def inner_product_matrix(U: np.ndarray, V: np.ndarray) -> np.bool:\n",
    "    \"\"\"Inner product for C^{M x N}: sum of conjugate(U) * V.\"\"\"\n",
    "    return np.vdot(U, V)   # same as sum(conj(U)*V)\n",
    "\n",
    "\n",
    "def inner_product_pair(U: tuple[np.ndarray, np.ndarray],\n",
    "                       V: tuple[np.ndarray, np.ndarray]) -> np.bool:\n",
    "    \"\"\"Inner product for pairs: sum of inner products of components.\"\"\"\n",
    "    Uh, Uv = U\n",
    "    Vh, Vv = V\n",
    "    return inner_product_matrix(Uh, Vh) + inner_product_matrix(Uv, Vv)\n"
   ]
  },
  {
   "cell_type": "code",
   "execution_count": 33,
   "metadata": {},
   "outputs": [
    {
     "name": "stdout",
     "output_type": "stream",
     "text": [
      "\u001b[32m.\u001b[0m\u001b[32m.\u001b[0m\u001b[32m.\u001b[0m\u001b[32m                                                                                          [100%]\u001b[0m\n"
     ]
    }
   ],
   "source": [
    "%%ipytest -q\n",
    "\n",
    "def test_gradient2D_adjoint_output_shape():\n",
    "    \"\"\"Check output shape matches input X.\"\"\"\n",
    "    X = np.random.randn(4, 5)\n",
    "    Yh = np.random.randn(4, 5)\n",
    "    Yv = np.random.randn(4, 5)\n",
    "    out = gradient2D_adjoint((Yh, Yv))\n",
    "    assert out.shape == X.shape\n",
    "\n",
    "\n",
    "def test_adjoint_property():\n",
    "    \"\"\"Verify <D(X), Y> = <X, D*(Y)> for random X, Y.\"\"\"\n",
    "    rng = np.random.default_rng(seed=42)\n",
    "\n",
    "    M, N = 4, 5\n",
    "    X = rng.normal(size=(M, N)) + 1j * rng.normal(size=(M, N))\n",
    "    Yh = rng.normal(size=(M, N)) + 1j * rng.normal(size=(M, N))\n",
    "    Yv = rng.normal(size=(M, N)) + 1j * rng.normal(size=(M, N))\n",
    "    Y = (Yh, Yv)\n",
    "\n",
    "    # Left-hand side: <D(X), Y>\n",
    "    DX = gradient2D(X)\n",
    "    lhs = inner_product_pair(DX, Y)\n",
    "\n",
    "    # Right-hand side: <X, D*(Y)>\n",
    "    rhs = inner_product_matrix(X, gradient2D_adjoint(Y))\n",
    "\n",
    "    assert np.allclose(lhs, rhs, rtol=1e-12, atol=1e-12)\n",
    "\n",
    "def test_gradient2D_adjoint_with_values():\n",
    "    Yh = np.array([\n",
    "        [1, 2],\n",
    "        [3, 4]\n",
    "    ])\n",
    "    Yv = np.array([\n",
    "        [5, 6],\n",
    "        [7, 8]\n",
    "    ])\n",
    "    result = gradient2D_adjoint((Yh, Yv))\n",
    "    expected = np.array([\n",
    "        [-6, -5],\n",
    "        [2, 9]])\n",
    "    assert np.allclose(result, expected)"
   ]
  },
  {
   "cell_type": "markdown",
   "metadata": {},
   "source": [
    "[Bonus, **optional**]. Generalize the `gradient2D` to any number of dimensions ($\\mathbf{X} \\in \\mathbb{C}^{N_1 \\times N_2 \\times \\dotsc \\times N_p}$), i.e., by returning tensors obtained by computing differences along each of its dimensions.\n",
    "> Hint: \n",
    "> - you may use a loops here, and/or list comprehension. Using slice objects (see [np.s_](https://numpy.org/doc/stable/reference/generated/numpy.s_.html?highlight=s_#numpy.s_) and [this page](https://stackoverflow.com/questions/24432209/python-index-an-array-using-the-colon-operator-in-an-arbitrary-dimension)) can be an interesting option.\n",
    ">\n",
    "> - the definition of the scalar product above can be extended to the case of tensors as follows:\n",
    "> \\begin{equation}\n",
    "    \\mathbf{U}, \\mathbf{V} \\in \\mathbb{C}^{N_1 \\times N_2 \\times \\dotsc \\times N_p}, \\; \\langle \\mathbf{U}, \\mathbf{V} \\rangle_{\\mathbb{C}^{N_1 \\times N_2 \\times \\dotsc \\times N_p}} =  \\sum_{n_1 = 1}^{N_1}  \\sum_{n_2 = 1}^{N_2} \\dotsc \\sum_{n_p = 1}^{N_p} u_{n_1, n_2, \\dotsc, n_p}^* v_{n_1, n_2, \\dotsc, n_p}   \n",
    "\\end{equation}"
   ]
  },
  {
   "cell_type": "markdown",
   "metadata": {},
   "source": [
    "**Answer**:"
   ]
  },
  {
   "cell_type": "code",
   "execution_count": null,
   "metadata": {},
   "outputs": [],
   "source": [
    "# your code\n",
    "\n",
    "def gradientND(X: np.ndarray):\n",
    "    \"\"\"\n",
    "    Compute the discrete gradient operator D(X) for an N-dimensional array.\n",
    "\n",
    "    Parameters\n",
    "    ----------\n",
    "    X : np.ndarray\n",
    "        Input array of shape (N1, N2, ..., Np).\n",
    "\n",
    "    Returns\n",
    "    -------\n",
    "    list of np.ndarray\n",
    "        List of arrays, one per dimension, each of the same shape as X.\n",
    "        The i-th element contains the finite difference along axis i.\n",
    "    \"\"\"\n",
    "    if X.ndim < 1:\n",
    "        raise ValueError(\"Input must have at least 1 dimension\")\n",
    "\n",
    "    grads = []\n",
    "    # iteration on the number of dimensions\n",
    "    for axis in range(X.ndim):\n",
    "        # Here we take the forward differences along the current axis\n",
    "        diff = np.diff(X, axis=axis)\n",
    "\n",
    "        # We define the padding to append to the differenced array\n",
    "        pad_shape = list(X.shape)\n",
    "        pad_shape[axis] = 1\n",
    "        pad = np.zeros(pad_shape, dtype=X.dtype)\n",
    "\n",
    "        # Concatenate: differences + zero padding\n",
    "        g = np.concatenate((diff, pad), axis=axis)\n",
    "        grads.append(g)\n",
    "\n",
    "    return grads"
   ]
  },
  {
   "cell_type": "markdown",
   "metadata": {},
   "source": [
    "## Reference\n",
    "\n",
    "```bibtex\n",
    "@article{condat:hal-01309685,\n",
    "  TITLE = {{Discrete Total Variation: New Definition and Minimization}},\n",
    "  AUTHOR = {Condat, Laurent},\n",
    "  URL = {https://hal.archives-ouvertes.fr/hal-01309685},\n",
    "  JOURNAL = {{SIAM Journal on Imaging Sciences}},\n",
    "  PUBLISHER = {{Society for Industrial and Applied Mathematics}},\n",
    "  VOLUME = {10},\n",
    "  NUMBER = {3},\n",
    "  PAGES = {1258--1290},\n",
    "  YEAR = {2017},\n",
    "  MONTH = Aug,\n",
    "  DOI = {10.1137/16M1075247},\n",
    "  KEYWORDS = { variational image processing ; total variation ;  finite-difference schemes ;  coarea formula},\n",
    "  PDF = {https://hal.archives-ouvertes.fr/hal-01309685v3/file/Condat-newTV.pdf},\n",
    "  HAL_ID = {hal-01309685},\n",
    "  HAL_VERSION = {v3},\n",
    "}\n",
    "```\n"
   ]
  }
 ],
 "metadata": {
  "kernelspec": {
   "language": "python",
   "name": "python3"
  },
  "language_info": {
   "codemirror_mode": {
    "name": "ipython",
    "version": 3
   },
   "file_extension": ".py",
   "mimetype": "text/x-python",
   "name": "python",
   "nbconvert_exporter": "python",
   "pygments_lexer": "ipython3",
  }
 },
 "nbformat": 4,
 "nbformat_minor": 4
}
